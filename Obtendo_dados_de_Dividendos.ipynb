{
 "cells": [
  {
   "cell_type": "code",
   "execution_count": 2,
   "id": "46a09b89-c048-48a2-946e-50bcd9703edb",
   "metadata": {},
   "outputs": [],
   "source": [
    "import plotly.graph_objects as go\n",
    "import pandas as pd\n",
    "import numpy as np\n",
    "import yfinance as yf"
   ]
  },
  {
   "cell_type": "code",
   "execution_count": 6,
   "id": "1a1e7e39-8834-4cb7-a235-f7bacf6dd184",
   "metadata": {},
   "outputs": [],
   "source": [
    "stock_ = 'WEGE3.SA'\n"
   ]
  },
  {
   "cell_type": "code",
   "execution_count": 44,
   "id": "b795bd86-2df9-45cf-9a5b-967380d012ba",
   "metadata": {},
   "outputs": [
    {
     "name": "stderr",
     "output_type": "stream",
     "text": [
      "C:\\Users\\Home\\anaconda3\\Lib\\site-packages\\yfinance\\utils.py:788: FutureWarning: The 'unit' keyword in TimedeltaIndex construction is deprecated and will be removed in a future version. Use pd.to_timedelta instead.\n",
      "  df.index += _pd.TimedeltaIndex(dst_error_hours, 'h')\n"
     ]
    },
    {
     "data": {
      "text/html": [
       "<div>\n",
       "<style scoped>\n",
       "    .dataframe tbody tr th:only-of-type {\n",
       "        vertical-align: middle;\n",
       "    }\n",
       "\n",
       "    .dataframe tbody tr th {\n",
       "        vertical-align: top;\n",
       "    }\n",
       "\n",
       "    .dataframe thead th {\n",
       "        text-align: right;\n",
       "    }\n",
       "</style>\n",
       "<table border=\"1\" class=\"dataframe\">\n",
       "  <thead>\n",
       "    <tr style=\"text-align: right;\">\n",
       "      <th></th>\n",
       "      <th>Open</th>\n",
       "      <th>High</th>\n",
       "      <th>Low</th>\n",
       "      <th>Close</th>\n",
       "      <th>Volume</th>\n",
       "      <th>Dividends</th>\n",
       "      <th>Stock Splits</th>\n",
       "    </tr>\n",
       "    <tr>\n",
       "      <th>Date</th>\n",
       "      <th></th>\n",
       "      <th></th>\n",
       "      <th></th>\n",
       "      <th></th>\n",
       "      <th></th>\n",
       "      <th></th>\n",
       "      <th></th>\n",
       "    </tr>\n",
       "  </thead>\n",
       "  <tbody>\n",
       "    <tr>\n",
       "      <th>2022-01-03 00:00:00-03:00</th>\n",
       "      <td>31.278138</td>\n",
       "      <td>32.004646</td>\n",
       "      <td>30.608984</td>\n",
       "      <td>30.608984</td>\n",
       "      <td>5475700</td>\n",
       "      <td>0.0</td>\n",
       "      <td>0.0</td>\n",
       "    </tr>\n",
       "    <tr>\n",
       "      <th>2022-01-04 00:00:00-03:00</th>\n",
       "      <td>30.800170</td>\n",
       "      <td>30.905323</td>\n",
       "      <td>30.350880</td>\n",
       "      <td>30.456034</td>\n",
       "      <td>4485400</td>\n",
       "      <td>0.0</td>\n",
       "      <td>0.0</td>\n",
       "    </tr>\n",
       "    <tr>\n",
       "      <th>2022-01-05 00:00:00-03:00</th>\n",
       "      <td>30.360438</td>\n",
       "      <td>30.360438</td>\n",
       "      <td>28.773589</td>\n",
       "      <td>28.850063</td>\n",
       "      <td>8402200</td>\n",
       "      <td>0.0</td>\n",
       "      <td>0.0</td>\n",
       "    </tr>\n",
       "    <tr>\n",
       "      <th>2022-01-06 00:00:00-03:00</th>\n",
       "      <td>28.888302</td>\n",
       "      <td>29.614811</td>\n",
       "      <td>28.639759</td>\n",
       "      <td>28.840506</td>\n",
       "      <td>6043900</td>\n",
       "      <td>0.0</td>\n",
       "      <td>0.0</td>\n",
       "    </tr>\n",
       "    <tr>\n",
       "      <th>2022-01-07 00:00:00-03:00</th>\n",
       "      <td>28.888298</td>\n",
       "      <td>28.993451</td>\n",
       "      <td>28.008839</td>\n",
       "      <td>28.113993</td>\n",
       "      <td>6155500</td>\n",
       "      <td>0.0</td>\n",
       "      <td>0.0</td>\n",
       "    </tr>\n",
       "    <tr>\n",
       "      <th>...</th>\n",
       "      <td>...</td>\n",
       "      <td>...</td>\n",
       "      <td>...</td>\n",
       "      <td>...</td>\n",
       "      <td>...</td>\n",
       "      <td>...</td>\n",
       "      <td>...</td>\n",
       "    </tr>\n",
       "    <tr>\n",
       "      <th>2023-12-21 00:00:00-03:00</th>\n",
       "      <td>36.091363</td>\n",
       "      <td>36.091363</td>\n",
       "      <td>35.676067</td>\n",
       "      <td>35.982594</td>\n",
       "      <td>4939500</td>\n",
       "      <td>0.0</td>\n",
       "      <td>0.0</td>\n",
       "    </tr>\n",
       "    <tr>\n",
       "      <th>2023-12-22 00:00:00-03:00</th>\n",
       "      <td>35.982594</td>\n",
       "      <td>36.140803</td>\n",
       "      <td>35.765056</td>\n",
       "      <td>36.101250</td>\n",
       "      <td>4733200</td>\n",
       "      <td>0.0</td>\n",
       "      <td>0.0</td>\n",
       "    </tr>\n",
       "    <tr>\n",
       "      <th>2023-12-26 00:00:00-03:00</th>\n",
       "      <td>36.160577</td>\n",
       "      <td>36.506657</td>\n",
       "      <td>36.041921</td>\n",
       "      <td>36.308899</td>\n",
       "      <td>3173100</td>\n",
       "      <td>0.0</td>\n",
       "      <td>0.0</td>\n",
       "    </tr>\n",
       "    <tr>\n",
       "      <th>2023-12-27 00:00:00-03:00</th>\n",
       "      <td>36.308900</td>\n",
       "      <td>36.575877</td>\n",
       "      <td>36.101248</td>\n",
       "      <td>36.427555</td>\n",
       "      <td>2730800</td>\n",
       "      <td>0.0</td>\n",
       "      <td>0.0</td>\n",
       "    </tr>\n",
       "    <tr>\n",
       "      <th>2023-12-28 00:00:00-03:00</th>\n",
       "      <td>36.427561</td>\n",
       "      <td>36.803307</td>\n",
       "      <td>36.299015</td>\n",
       "      <td>36.496777</td>\n",
       "      <td>3536300</td>\n",
       "      <td>0.0</td>\n",
       "      <td>0.0</td>\n",
       "    </tr>\n",
       "  </tbody>\n",
       "</table>\n",
       "<p>498 rows × 7 columns</p>\n",
       "</div>"
      ],
      "text/plain": [
       "                                Open       High        Low      Close  \\\n",
       "Date                                                                    \n",
       "2022-01-03 00:00:00-03:00  31.278138  32.004646  30.608984  30.608984   \n",
       "2022-01-04 00:00:00-03:00  30.800170  30.905323  30.350880  30.456034   \n",
       "2022-01-05 00:00:00-03:00  30.360438  30.360438  28.773589  28.850063   \n",
       "2022-01-06 00:00:00-03:00  28.888302  29.614811  28.639759  28.840506   \n",
       "2022-01-07 00:00:00-03:00  28.888298  28.993451  28.008839  28.113993   \n",
       "...                              ...        ...        ...        ...   \n",
       "2023-12-21 00:00:00-03:00  36.091363  36.091363  35.676067  35.982594   \n",
       "2023-12-22 00:00:00-03:00  35.982594  36.140803  35.765056  36.101250   \n",
       "2023-12-26 00:00:00-03:00  36.160577  36.506657  36.041921  36.308899   \n",
       "2023-12-27 00:00:00-03:00  36.308900  36.575877  36.101248  36.427555   \n",
       "2023-12-28 00:00:00-03:00  36.427561  36.803307  36.299015  36.496777   \n",
       "\n",
       "                            Volume  Dividends  Stock Splits  \n",
       "Date                                                         \n",
       "2022-01-03 00:00:00-03:00  5475700        0.0           0.0  \n",
       "2022-01-04 00:00:00-03:00  4485400        0.0           0.0  \n",
       "2022-01-05 00:00:00-03:00  8402200        0.0           0.0  \n",
       "2022-01-06 00:00:00-03:00  6043900        0.0           0.0  \n",
       "2022-01-07 00:00:00-03:00  6155500        0.0           0.0  \n",
       "...                            ...        ...           ...  \n",
       "2023-12-21 00:00:00-03:00  4939500        0.0           0.0  \n",
       "2023-12-22 00:00:00-03:00  4733200        0.0           0.0  \n",
       "2023-12-26 00:00:00-03:00  3173100        0.0           0.0  \n",
       "2023-12-27 00:00:00-03:00  2730800        0.0           0.0  \n",
       "2023-12-28 00:00:00-03:00  3536300        0.0           0.0  \n",
       "\n",
       "[498 rows x 7 columns]"
      ]
     },
     "execution_count": 44,
     "metadata": {},
     "output_type": "execute_result"
    }
   ],
   "source": [
    "stock = yf.Ticker(stock_)\n",
    "df = stock.history(start='2022-01-01', end = '2023-12-31')\n",
    "df"
   ]
  },
  {
   "cell_type": "code",
   "execution_count": 47,
   "id": "e08f6b55-b746-48c7-8bfc-3254a751d8ce",
   "metadata": {
    "scrolled": true
   },
   "outputs": [
    {
     "data": {
      "text/plain": [
       "Date\n",
       "2022-01-03 00:00:00-03:00    0.0\n",
       "2022-01-04 00:00:00-03:00    0.0\n",
       "2022-01-05 00:00:00-03:00    0.0\n",
       "2022-01-06 00:00:00-03:00    0.0\n",
       "2022-01-07 00:00:00-03:00    0.0\n",
       "                            ... \n",
       "2023-12-21 00:00:00-03:00    0.0\n",
       "2023-12-22 00:00:00-03:00    0.0\n",
       "2023-12-26 00:00:00-03:00    0.0\n",
       "2023-12-27 00:00:00-03:00    0.0\n",
       "2023-12-28 00:00:00-03:00    0.0\n",
       "Name: Dividends, Length: 498, dtype: float64"
      ]
     },
     "execution_count": 47,
     "metadata": {},
     "output_type": "execute_result"
    }
   ],
   "source": [
    "dividends = df.Dividends\n",
    "dividends\n",
    "\n"
   ]
  },
  {
   "cell_type": "code",
   "execution_count": null,
   "id": "2ef7d060-d253-4c59-a5d6-3211eac753da",
   "metadata": {},
   "outputs": [],
   "source": []
  },
  {
   "cell_type": "code",
   "execution_count": 49,
   "id": "200c1531-8544-43d9-aa86-654ba515a5d3",
   "metadata": {
    "scrolled": true
   },
   "outputs": [
    {
     "data": {
      "text/plain": [
       "Date\n",
       "2022-02-21 00:00:00-03:00    0.205203\n",
       "2022-03-28 00:00:00-03:00    0.036764\n",
       "2022-06-27 00:00:00-03:00    0.043294\n",
       "2022-07-25 00:00:00-03:00    0.131948\n",
       "2022-09-26 00:00:00-03:00    0.044118\n",
       "2022-12-19 00:00:00-03:00    0.054353\n",
       "2023-02-22 00:00:00-03:00    0.226304\n",
       "2023-03-20 00:00:00-03:00    0.053235\n",
       "2023-06-26 00:00:00-03:00    0.058294\n",
       "2023-07-24 00:00:00-03:00    0.145202\n",
       "2023-09-25 00:00:00-03:00    0.059824\n",
       "2023-12-18 00:00:00-03:00    0.071941\n",
       "Name: Dividends, dtype: float64"
      ]
     },
     "execution_count": 49,
     "metadata": {},
     "output_type": "execute_result"
    }
   ],
   "source": [
    "#filtrando somente dias em que foi pago dividendos no periodo. \n",
    "yield_hist = dividends[dividends != 0] \n",
    "yield_hist"
   ]
  },
  {
   "cell_type": "code",
   "execution_count": 55,
   "id": "b623c8df-3e91-470c-aab1-333bfea2100f",
   "metadata": {},
   "outputs": [
    {
     "data": {
      "text/plain": [
       "<Axes: xlabel='Date'>"
      ]
     },
     "execution_count": 55,
     "metadata": {},
     "output_type": "execute_result"
    },
    {
     "data": {
      "image/png": "[encoded data removed]",
      "text/plain": [
       "<Figure size 640x480 with 1 Axes>"
      ]
     },
     "metadata": {},
     "output_type": "display_data"
    }
   ],
   "source": [
    "yield_hist.plot.bar()"
   ]
  },
  {
   "cell_type": "code",
   "execution_count": null,
   "id": "7c49e412-1492-4376-acf5-c1782a913165",
   "metadata": {},
   "outputs": [],
   "source": []
  }
 ],
 "metadata": {
  "kernelspec": {
   "display_name": "Python 3 (ipykernel)",
   "language": "python",
   "name": "python3"
  },
  "language_info": {
   "codemirror_mode": {
    "name": "ipython",
    "version": 3
   },
   "file_extension": ".py",
   "mimetype": "text/x-python",
   "name": "python",
   "nbconvert_exporter": "python",
   "pygments_lexer": "ipython3",
   "version": "3.11.5"
  }
 },
 "nbformat": 4,
 "nbformat_minor": 5
}
