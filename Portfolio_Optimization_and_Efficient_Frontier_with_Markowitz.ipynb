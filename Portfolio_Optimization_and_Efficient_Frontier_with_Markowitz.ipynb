{
  "cells": [
    {
      "cell_type": "markdown",
      "metadata": {
        "id": "view-in-github",
        "colab_type": "text"
      },
      "source": [
        "<a href=\"https://colab.research.google.com/github/pchernic/python_for_financial_data/blob/main/Portfolio_Optimization_and_Efficient_Frontier_with_Markowitz.ipynb\" target=\"_parent\"><img src=\"https://colab.research.google.com/assets/colab-badge.svg\" alt=\"Open In Colab\"/></a>"
      ]
    },
    {
      "cell_type": "markdown",
      "id": "ad07c668",
      "metadata": {
        "id": "ad07c668"
      },
      "source": [
        "# Markowitz with Python"
      ]
    },
    {
      "cell_type": "markdown",
      "source": [
        "## Description and Goals:"
      ],
      "metadata": {
        "id": "RHWG2g6EW4Eo"
      },
      "id": "RHWG2g6EW4Eo"
    },
    {
      "cell_type": "markdown",
      "source": [
        "---\n",
        "\n",
        "\n",
        "This  Notebook contains Python code for portfolio optimization and the visualization of the efficient frontier. The efficient frontier represents a set of investment portfolios that achieve the optimal trade-off between expected return and risk (volatility). The key steps in this notebook include:\n",
        "\n",
        "1. **Data Retrieval:** The code downloads historical stock price data for a selected set of stocks from Yahoo Finance, defines the date range for analysis, and calculates logarithmic returns.\n",
        "\n",
        "2. **Portfolio Simulation:** It simulates a large number of random portfolios by generating random weights for each stock in the portfolio. For each portfolio, it calculates the expected return, volatility (risk), and Sharpe ratio, assuming a risk-free rate of 0%.\n",
        "\n",
        "3. **Optimal Portfolio:** The code identifies the portfolio with the highest Sharpe ratio, which represents the optimal portfolio from a risk-adjusted perspective.\n",
        "\n",
        "4. **Efficient Frontier:** It computes and plots the efficient frontier, which shows the range of portfolios that offer different levels of expected return for varying levels of risk.\n",
        "\n",
        "5. **Visualization:** The results are visualized using Matplotlib, including a scatter plot of portfolios with color-coded Sharpe ratios, a highlighted point for the optimal portfolio, and the efficient frontier curve.\n",
        "\n",
        "**Goal:**\n",
        "\n",
        "This notebook aims to be a valuable tool for investors and finance enthusiasts interested in portfolio optimization. By analyzing the efficient frontier, users can make informed decisions about constructing investment portfolios that align with their risk tolerance and return objectives.\n",
        "\n",
        "**Dependencies:**\n",
        "\n",
        "- yfinance\n",
        "- numpy\n",
        "- matplotlib\n",
        "- pandas\n",
        "- scipy\n",
        "\n",
        "---\n"
      ],
      "metadata": {
        "id": "BbOULlKkWJqd"
      },
      "id": "BbOULlKkWJqd"
    },
    {
      "cell_type": "markdown",
      "source": [
        "##Libraries"
      ],
      "metadata": {
        "id": "BveWCJdjR5gp"
      },
      "id": "BveWCJdjR5gp"
    },
    {
      "cell_type": "code",
      "execution_count": 2,
      "id": "565f9fa1",
      "metadata": {
        "id": "565f9fa1"
      },
      "outputs": [],
      "source": [
        "import yfinance as yf\n",
        "import numpy as np\n",
        "import matplotlib.pyplot as plt\n",
        "import datetime as dt\n",
        "import pandas as pd\n",
        "from scipy.optimize import minimize\n",
        "import matplotlib.ticker as mtick"
      ]
    },
    {
      "cell_type": "markdown",
      "source": [
        "### Defining date range:"
      ],
      "metadata": {
        "id": "rmBFwxLL77Kv"
      },
      "id": "rmBFwxLL77Kv"
    },
    {
      "cell_type": "code",
      "execution_count": 4,
      "id": "1db657e7",
      "metadata": {
        "id": "1db657e7"
      },
      "outputs": [],
      "source": [
        "# Define the start and end dates for data analysis\n",
        "start_date = dt.date(2015, 1, 1)\n",
        "end_date = dt.date(2022, 12, 31)"
      ]
    },
    {
      "cell_type": "markdown",
      "source": [
        "### Portfolio Example"
      ],
      "metadata": {
        "id": "HU-i-7BC8RXl"
      },
      "id": "HU-i-7BC8RXl"
    },
    {
      "cell_type": "code",
      "execution_count": 5,
      "id": "b462c319",
      "metadata": {
        "id": "b462c319",
        "outputId": "e5294d59-ba9d-4d77-bf46-fde968162d5f",
        "colab": {
          "base_uri": "https://localhost:8080/",
          "height": 473
        }
      },
      "outputs": [
        {
          "output_type": "stream",
          "name": "stdout",
          "text": [
            "[*********************100%%**********************]  4 of 4 completed\n"
          ]
        },
        {
          "output_type": "execute_result",
          "data": {
            "text/plain": [
              "                  AAPL       AMZN      GOOGL         NKE\n",
              "Date                                                    \n",
              "2015-01-02   24.498680  15.426000  26.477501   43.225182\n",
              "2015-01-05   23.808516  15.109500  25.973000   42.529243\n",
              "2015-01-06   23.810755  14.764500  25.332001   42.279057\n",
              "2015-01-07   24.144636  14.921000  25.257500   43.152393\n",
              "2015-01-08   25.072327  15.023000  25.345501   44.148533\n",
              "...                ...        ...        ...         ...\n",
              "2022-12-23  131.299820  85.250000  89.230003  115.152916\n",
              "2022-12-27  129.477585  83.040001  87.389999  116.450554\n",
              "2022-12-28  125.504539  81.820000  86.019997  113.894913\n",
              "2022-12-29  129.059372  84.180000  88.449997  116.242538\n",
              "2022-12-30  129.378006  84.000000  88.230003  115.905754\n",
              "\n",
              "[2014 rows x 4 columns]"
            ],
            "text/html": [
              "\n",
              "  <div id=\"df-b24e3015-7387-4438-9727-eaa9363e16f2\" class=\"colab-df-container\">\n",
              "    <div>\n",
              "<style scoped>\n",
              "    .dataframe tbody tr th:only-of-type {\n",
              "        vertical-align: middle;\n",
              "    }\n",
              "\n",
              "    .dataframe tbody tr th {\n",
              "        vertical-align: top;\n",
              "    }\n",
              "\n",
              "    .dataframe thead th {\n",
              "        text-align: right;\n",
              "    }\n",
              "</style>\n",
              "<table border=\"1\" class=\"dataframe\">\n",
              "  <thead>\n",
              "    <tr style=\"text-align: right;\">\n",
              "      <th></th>\n",
              "      <th>AAPL</th>\n",
              "      <th>AMZN</th>\n",
              "      <th>GOOGL</th>\n",
              "      <th>NKE</th>\n",
              "    </tr>\n",
              "    <tr>\n",
              "      <th>Date</th>\n",
              "      <th></th>\n",
              "      <th></th>\n",
              "      <th></th>\n",
              "      <th></th>\n",
              "    </tr>\n",
              "  </thead>\n",
              "  <tbody>\n",
              "    <tr>\n",
              "      <th>2015-01-02</th>\n",
              "      <td>24.498680</td>\n",
              "      <td>15.426000</td>\n",
              "      <td>26.477501</td>\n",
              "      <td>43.225182</td>\n",
              "    </tr>\n",
              "    <tr>\n",
              "      <th>2015-01-05</th>\n",
              "      <td>23.808516</td>\n",
              "      <td>15.109500</td>\n",
              "      <td>25.973000</td>\n",
              "      <td>42.529243</td>\n",
              "    </tr>\n",
              "    <tr>\n",
              "      <th>2015-01-06</th>\n",
              "      <td>23.810755</td>\n",
              "      <td>14.764500</td>\n",
              "      <td>25.332001</td>\n",
              "      <td>42.279057</td>\n",
              "    </tr>\n",
              "    <tr>\n",
              "      <th>2015-01-07</th>\n",
              "      <td>24.144636</td>\n",
              "      <td>14.921000</td>\n",
              "      <td>25.257500</td>\n",
              "      <td>43.152393</td>\n",
              "    </tr>\n",
              "    <tr>\n",
              "      <th>2015-01-08</th>\n",
              "      <td>25.072327</td>\n",
              "      <td>15.023000</td>\n",
              "      <td>25.345501</td>\n",
              "      <td>44.148533</td>\n",
              "    </tr>\n",
              "    <tr>\n",
              "      <th>...</th>\n",
              "      <td>...</td>\n",
              "      <td>...</td>\n",
              "      <td>...</td>\n",
              "      <td>...</td>\n",
              "    </tr>\n",
              "    <tr>\n",
              "      <th>2022-12-23</th>\n",
              "      <td>131.299820</td>\n",
              "      <td>85.250000</td>\n",
              "      <td>89.230003</td>\n",
              "      <td>115.152916</td>\n",
              "    </tr>\n",
              "    <tr>\n",
              "      <th>2022-12-27</th>\n",
              "      <td>129.477585</td>\n",
              "      <td>83.040001</td>\n",
              "      <td>87.389999</td>\n",
              "      <td>116.450554</td>\n",
              "    </tr>\n",
              "    <tr>\n",
              "      <th>2022-12-28</th>\n",
              "      <td>125.504539</td>\n",
              "      <td>81.820000</td>\n",
              "      <td>86.019997</td>\n",
              "      <td>113.894913</td>\n",
              "    </tr>\n",
              "    <tr>\n",
              "      <th>2022-12-29</th>\n",
              "      <td>129.059372</td>\n",
              "      <td>84.180000</td>\n",
              "      <td>88.449997</td>\n",
              "      <td>116.242538</td>\n",
              "    </tr>\n",
              "    <tr>\n",
              "      <th>2022-12-30</th>\n",
              "      <td>129.378006</td>\n",
              "      <td>84.000000</td>\n",
              "      <td>88.230003</td>\n",
              "      <td>115.905754</td>\n",
              "    </tr>\n",
              "  </tbody>\n",
              "</table>\n",
              "<p>2014 rows × 4 columns</p>\n",
              "</div>\n",
              "    <div class=\"colab-df-buttons\">\n",
              "\n",
              "  <div class=\"colab-df-container\">\n",
              "    <button class=\"colab-df-convert\" onclick=\"convertToInteractive('df-b24e3015-7387-4438-9727-eaa9363e16f2')\"\n",
              "            title=\"Convert this dataframe to an interactive table.\"\n",
              "            style=\"display:none;\">\n",
              "\n",
              "  <svg xmlns=\"http://www.w3.org/2000/svg\" height=\"24px\" viewBox=\"0 -960 960 960\">\n",
              "    <path d=\"M120-120v-720h720v720H120Zm60-500h600v-160H180v160Zm220 220h160v-160H400v160Zm0 220h160v-160H400v160ZM180-400h160v-160H180v160Zm440 0h160v-160H620v160ZM180-180h160v-160H180v160Zm440 0h160v-160H620v160Z\"/>\n",
              "  </svg>\n",
              "    </button>\n",
              "\n",
              "  <style>\n",
              "    .colab-df-container {\n",
              "      display:flex;\n",
              "      gap: 12px;\n",
              "    }\n",
              "\n",
              "    .colab-df-convert {\n",
              "      background-color: #E8F0FE;\n",
              "      border: none;\n",
              "      border-radius: 50%;\n",
              "      cursor: pointer;\n",
              "      display: none;\n",
              "      fill: #1967D2;\n",
              "      height: 32px;\n",
              "      padding: 0 0 0 0;\n",
              "      width: 32px;\n",
              "    }\n",
              "\n",
              "    .colab-df-convert:hover {\n",
              "      background-color: #E2EBFA;\n",
              "      box-shadow: 0px 1px 2px rgba(60, 64, 67, 0.3), 0px 1px 3px 1px rgba(60, 64, 67, 0.15);\n",
              "      fill: #174EA6;\n",
              "    }\n",
              "\n",
              "    .colab-df-buttons div {\n",
              "      margin-bottom: 4px;\n",
              "    }\n",
              "\n",
              "    [theme=dark] .colab-df-convert {\n",
              "      background-color: #3B4455;\n",
              "      fill: #D2E3FC;\n",
              "    }\n",
              "\n",
              "    [theme=dark] .colab-df-convert:hover {\n",
              "      background-color: #434B5C;\n",
              "      box-shadow: 0px 1px 3px 1px rgba(0, 0, 0, 0.15);\n",
              "      filter: drop-shadow(0px 1px 2px rgba(0, 0, 0, 0.3));\n",
              "      fill: #FFFFFF;\n",
              "    }\n",
              "  </style>\n",
              "\n",
              "    <script>\n",
              "      const buttonEl =\n",
              "        document.querySelector('#df-b24e3015-7387-4438-9727-eaa9363e16f2 button.colab-df-convert');\n",
              "      buttonEl.style.display =\n",
              "        google.colab.kernel.accessAllowed ? 'block' : 'none';\n",
              "\n",
              "      async function convertToInteractive(key) {\n",
              "        const element = document.querySelector('#df-b24e3015-7387-4438-9727-eaa9363e16f2');\n",
              "        const dataTable =\n",
              "          await google.colab.kernel.invokeFunction('convertToInteractive',\n",
              "                                                    [key], {});\n",
              "        if (!dataTable) return;\n",
              "\n",
              "        const docLinkHtml = 'Like what you see? Visit the ' +\n",
              "          '<a target=\"_blank\" href=https://colab.research.google.com/notebooks/data_table.ipynb>data table notebook</a>'\n",
              "          + ' to learn more about interactive tables.';\n",
              "        element.innerHTML = '';\n",
              "        dataTable['output_type'] = 'display_data';\n",
              "        await google.colab.output.renderOutput(dataTable, element);\n",
              "        const docLink = document.createElement('div');\n",
              "        docLink.innerHTML = docLinkHtml;\n",
              "        element.appendChild(docLink);\n",
              "      }\n",
              "    </script>\n",
              "  </div>\n",
              "\n",
              "\n",
              "<div id=\"df-4fc7fafb-45a2-4d6e-9c46-966b6d21819e\">\n",
              "  <button class=\"colab-df-quickchart\" onclick=\"quickchart('df-4fc7fafb-45a2-4d6e-9c46-966b6d21819e')\"\n",
              "            title=\"Suggest charts.\"\n",
              "            style=\"display:none;\">\n",
              "\n",
              "<svg xmlns=\"http://www.w3.org/2000/svg\" height=\"24px\"viewBox=\"0 0 24 24\"\n",
              "     width=\"24px\">\n",
              "    <g>\n",
              "        <path d=\"M19 3H5c-1.1 0-2 .9-2 2v14c0 1.1.9 2 2 2h14c1.1 0 2-.9 2-2V5c0-1.1-.9-2-2-2zM9 17H7v-7h2v7zm4 0h-2V7h2v10zm4 0h-2v-4h2v4z\"/>\n",
              "    </g>\n",
              "</svg>\n",
              "  </button>\n",
              "\n",
              "<style>\n",
              "  .colab-df-quickchart {\n",
              "      --bg-color: #E8F0FE;\n",
              "      --fill-color: #1967D2;\n",
              "      --hover-bg-color: #E2EBFA;\n",
              "      --hover-fill-color: #174EA6;\n",
              "      --disabled-fill-color: #AAA;\n",
              "      --disabled-bg-color: #DDD;\n",
              "  }\n",
              "\n",
              "  [theme=dark] .colab-df-quickchart {\n",
              "      --bg-color: #3B4455;\n",
              "      --fill-color: #D2E3FC;\n",
              "      --hover-bg-color: #434B5C;\n",
              "      --hover-fill-color: #FFFFFF;\n",
              "      --disabled-bg-color: #3B4455;\n",
              "      --disabled-fill-color: #666;\n",
              "  }\n",
              "\n",
              "  .colab-df-quickchart {\n",
              "    background-color: var(--bg-color);\n",
              "    border: none;\n",
              "    border-radius: 50%;\n",
              "    cursor: pointer;\n",
              "    display: none;\n",
              "    fill: var(--fill-color);\n",
              "    height: 32px;\n",
              "    padding: 0;\n",
              "    width: 32px;\n",
              "  }\n",
              "\n",
              "  .colab-df-quickchart:hover {\n",
              "    background-color: var(--hover-bg-color);\n",
              "    box-shadow: 0 1px 2px rgba(60, 64, 67, 0.3), 0 1px 3px 1px rgba(60, 64, 67, 0.15);\n",
              "    fill: var(--button-hover-fill-color);\n",
              "  }\n",
              "\n",
              "  .colab-df-quickchart-complete:disabled,\n",
              "  .colab-df-quickchart-complete:disabled:hover {\n",
              "    background-color: var(--disabled-bg-color);\n",
              "    fill: var(--disabled-fill-color);\n",
              "    box-shadow: none;\n",
              "  }\n",
              "\n",
              "  .colab-df-spinner {\n",
              "    border: 2px solid var(--fill-color);\n",
              "    border-color: transparent;\n",
              "    border-bottom-color: var(--fill-color);\n",
              "    animation:\n",
              "      spin 1s steps(1) infinite;\n",
              "  }\n",
              "\n",
              "  @keyframes spin {\n",
              "    0% {\n",
              "      border-color: transparent;\n",
              "      border-bottom-color: var(--fill-color);\n",
              "      border-left-color: var(--fill-color);\n",
              "    }\n",
              "    20% {\n",
              "      border-color: transparent;\n",
              "      border-left-color: var(--fill-color);\n",
              "      border-top-color: var(--fill-color);\n",
              "    }\n",
              "    30% {\n",
              "      border-color: transparent;\n",
              "      border-left-color: var(--fill-color);\n",
              "      border-top-color: var(--fill-color);\n",
              "      border-right-color: var(--fill-color);\n",
              "    }\n",
              "    40% {\n",
              "      border-color: transparent;\n",
              "      border-right-color: var(--fill-color);\n",
              "      border-top-color: var(--fill-color);\n",
              "    }\n",
              "    60% {\n",
              "      border-color: transparent;\n",
              "      border-right-color: var(--fill-color);\n",
              "    }\n",
              "    80% {\n",
              "      border-color: transparent;\n",
              "      border-right-color: var(--fill-color);\n",
              "      border-bottom-color: var(--fill-color);\n",
              "    }\n",
              "    90% {\n",
              "      border-color: transparent;\n",
              "      border-bottom-color: var(--fill-color);\n",
              "    }\n",
              "  }\n",
              "</style>\n",
              "\n",
              "  <script>\n",
              "    async function quickchart(key) {\n",
              "      const quickchartButtonEl =\n",
              "        document.querySelector('#' + key + ' button');\n",
              "      quickchartButtonEl.disabled = true;  // To prevent multiple clicks.\n",
              "      quickchartButtonEl.classList.add('colab-df-spinner');\n",
              "      try {\n",
              "        const charts = await google.colab.kernel.invokeFunction(\n",
              "            'suggestCharts', [key], {});\n",
              "      } catch (error) {\n",
              "        console.error('Error during call to suggestCharts:', error);\n",
              "      }\n",
              "      quickchartButtonEl.classList.remove('colab-df-spinner');\n",
              "      quickchartButtonEl.classList.add('colab-df-quickchart-complete');\n",
              "    }\n",
              "    (() => {\n",
              "      let quickchartButtonEl =\n",
              "        document.querySelector('#df-4fc7fafb-45a2-4d6e-9c46-966b6d21819e button');\n",
              "      quickchartButtonEl.style.display =\n",
              "        google.colab.kernel.accessAllowed ? 'block' : 'none';\n",
              "    })();\n",
              "  </script>\n",
              "</div>\n",
              "    </div>\n",
              "  </div>\n"
            ]
          },
          "metadata": {},
          "execution_count": 5
        }
      ],
      "source": [
        "# Define a list of stock symbols\n",
        "stock_symbols = [\"AAPL\", \"NKE\", \"GOOGL\", \"AMZN\"]\n",
        "\n",
        "# Download adjusted closing prices for the selected stocks\n",
        "stock_prices = yf.download(stock_symbols, start_date, end_date)['Adj Close']\n"
      ]
    },
    {
      "cell_type": "markdown",
      "source": [
        "### Getting Returns\n",
        "  - Building Log Return Matrix\n",
        "  - Getting Mean Returns.\n",
        "  - Building A Covariance Matrix of Log Returns.\n",
        "  - Displaying mean returns.  "
      ],
      "metadata": {
        "id": "alJ0kPYG97T8"
      },
      "id": "alJ0kPYG97T8"
    },
    {
      "cell_type": "code",
      "source": [
        "# Calculate logarithmic returns and drop NaN values\n",
        "log_returns = stock_prices.pct_change().apply(lambda x: np.log(1+x)).dropna()\n",
        "\n",
        "# Calculate the mean (average) of logarithmic returns\n",
        "mean_returns = log_returns.mean()\n",
        "\n",
        "# Calculate the covariance matrix of logarithmic returns\n",
        "covariance_matrix = log_returns.cov()\n",
        "\n",
        "# Display the mean returns\n",
        "mean_returns\n"
      ],
      "metadata": {
        "colab": {
          "base_uri": "https://localhost:8080/"
        },
        "id": "0WQAdvme8u1t",
        "outputId": "d5337781-fc47-43f0-ef14-d1294d39e27e"
      },
      "id": "0WQAdvme8u1t",
      "execution_count": 6,
      "outputs": [
        {
          "output_type": "execute_result",
          "data": {
            "text/plain": [
              "AAPL     0.000827\n",
              "AMZN     0.000842\n",
              "GOOGL    0.000598\n",
              "NKE      0.000490\n",
              "dtype: float64"
            ]
          },
          "metadata": {},
          "execution_count": 6
        }
      ]
    },
    {
      "cell_type": "code",
      "source": [
        "#covariance matrix of logarithmic returns\n",
        "\n",
        "covariance_matrix"
      ],
      "metadata": {
        "colab": {
          "base_uri": "https://localhost:8080/",
          "height": 175
        },
        "id": "pFfST69F9C4h",
        "outputId": "0db5b73c-9884-40b5-bf3c-63ea73e40f9a"
      },
      "id": "pFfST69F9C4h",
      "execution_count": 7,
      "outputs": [
        {
          "output_type": "execute_result",
          "data": {
            "text/plain": [
              "           AAPL      AMZN     GOOGL       NKE\n",
              "AAPL   0.000356  0.000232  0.000216  0.000172\n",
              "AMZN   0.000232  0.000436  0.000247  0.000164\n",
              "GOOGL  0.000216  0.000247  0.000316  0.000165\n",
              "NKE    0.000172  0.000164  0.000165  0.000348"
            ],
            "text/html": [
              "\n",
              "  <div id=\"df-366083c7-1366-436d-879c-7370143348db\" class=\"colab-df-container\">\n",
              "    <div>\n",
              "<style scoped>\n",
              "    .dataframe tbody tr th:only-of-type {\n",
              "        vertical-align: middle;\n",
              "    }\n",
              "\n",
              "    .dataframe tbody tr th {\n",
              "        vertical-align: top;\n",
              "    }\n",
              "\n",
              "    .dataframe thead th {\n",
              "        text-align: right;\n",
              "    }\n",
              "</style>\n",
              "<table border=\"1\" class=\"dataframe\">\n",
              "  <thead>\n",
              "    <tr style=\"text-align: right;\">\n",
              "      <th></th>\n",
              "      <th>AAPL</th>\n",
              "      <th>AMZN</th>\n",
              "      <th>GOOGL</th>\n",
              "      <th>NKE</th>\n",
              "    </tr>\n",
              "  </thead>\n",
              "  <tbody>\n",
              "    <tr>\n",
              "      <th>AAPL</th>\n",
              "      <td>0.000356</td>\n",
              "      <td>0.000232</td>\n",
              "      <td>0.000216</td>\n",
              "      <td>0.000172</td>\n",
              "    </tr>\n",
              "    <tr>\n",
              "      <th>AMZN</th>\n",
              "      <td>0.000232</td>\n",
              "      <td>0.000436</td>\n",
              "      <td>0.000247</td>\n",
              "      <td>0.000164</td>\n",
              "    </tr>\n",
              "    <tr>\n",
              "      <th>GOOGL</th>\n",
              "      <td>0.000216</td>\n",
              "      <td>0.000247</td>\n",
              "      <td>0.000316</td>\n",
              "      <td>0.000165</td>\n",
              "    </tr>\n",
              "    <tr>\n",
              "      <th>NKE</th>\n",
              "      <td>0.000172</td>\n",
              "      <td>0.000164</td>\n",
              "      <td>0.000165</td>\n",
              "      <td>0.000348</td>\n",
              "    </tr>\n",
              "  </tbody>\n",
              "</table>\n",
              "</div>\n",
              "    <div class=\"colab-df-buttons\">\n",
              "\n",
              "  <div class=\"colab-df-container\">\n",
              "    <button class=\"colab-df-convert\" onclick=\"convertToInteractive('df-366083c7-1366-436d-879c-7370143348db')\"\n",
              "            title=\"Convert this dataframe to an interactive table.\"\n",
              "            style=\"display:none;\">\n",
              "\n",
              "  <svg xmlns=\"http://www.w3.org/2000/svg\" height=\"24px\" viewBox=\"0 -960 960 960\">\n",
              "    <path d=\"M120-120v-720h720v720H120Zm60-500h600v-160H180v160Zm220 220h160v-160H400v160Zm0 220h160v-160H400v160ZM180-400h160v-160H180v160Zm440 0h160v-160H620v160ZM180-180h160v-160H180v160Zm440 0h160v-160H620v160Z\"/>\n",
              "  </svg>\n",
              "    </button>\n",
              "\n",
              "  <style>\n",
              "    .colab-df-container {\n",
              "      display:flex;\n",
              "      gap: 12px;\n",
              "    }\n",
              "\n",
              "    .colab-df-convert {\n",
              "      background-color: #E8F0FE;\n",
              "      border: none;\n",
              "      border-radius: 50%;\n",
              "      cursor: pointer;\n",
              "      display: none;\n",
              "      fill: #1967D2;\n",
              "      height: 32px;\n",
              "      padding: 0 0 0 0;\n",
              "      width: 32px;\n",
              "    }\n",
              "\n",
              "    .colab-df-convert:hover {\n",
              "      background-color: #E2EBFA;\n",
              "      box-shadow: 0px 1px 2px rgba(60, 64, 67, 0.3), 0px 1px 3px 1px rgba(60, 64, 67, 0.15);\n",
              "      fill: #174EA6;\n",
              "    }\n",
              "\n",
              "    .colab-df-buttons div {\n",
              "      margin-bottom: 4px;\n",
              "    }\n",
              "\n",
              "    [theme=dark] .colab-df-convert {\n",
              "      background-color: #3B4455;\n",
              "      fill: #D2E3FC;\n",
              "    }\n",
              "\n",
              "    [theme=dark] .colab-df-convert:hover {\n",
              "      background-color: #434B5C;\n",
              "      box-shadow: 0px 1px 3px 1px rgba(0, 0, 0, 0.15);\n",
              "      filter: drop-shadow(0px 1px 2px rgba(0, 0, 0, 0.3));\n",
              "      fill: #FFFFFF;\n",
              "    }\n",
              "  </style>\n",
              "\n",
              "    <script>\n",
              "      const buttonEl =\n",
              "        document.querySelector('#df-366083c7-1366-436d-879c-7370143348db button.colab-df-convert');\n",
              "      buttonEl.style.display =\n",
              "        google.colab.kernel.accessAllowed ? 'block' : 'none';\n",
              "\n",
              "      async function convertToInteractive(key) {\n",
              "        const element = document.querySelector('#df-366083c7-1366-436d-879c-7370143348db');\n",
              "        const dataTable =\n",
              "          await google.colab.kernel.invokeFunction('convertToInteractive',\n",
              "                                                    [key], {});\n",
              "        if (!dataTable) return;\n",
              "\n",
              "        const docLinkHtml = 'Like what you see? Visit the ' +\n",
              "          '<a target=\"_blank\" href=https://colab.research.google.com/notebooks/data_table.ipynb>data table notebook</a>'\n",
              "          + ' to learn more about interactive tables.';\n",
              "        element.innerHTML = '';\n",
              "        dataTable['output_type'] = 'display_data';\n",
              "        await google.colab.output.renderOutput(dataTable, element);\n",
              "        const docLink = document.createElement('div');\n",
              "        docLink.innerHTML = docLinkHtml;\n",
              "        element.appendChild(docLink);\n",
              "      }\n",
              "    </script>\n",
              "  </div>\n",
              "\n",
              "\n",
              "<div id=\"df-44b3cb4a-155f-4ba8-b3ec-b567e92abb4c\">\n",
              "  <button class=\"colab-df-quickchart\" onclick=\"quickchart('df-44b3cb4a-155f-4ba8-b3ec-b567e92abb4c')\"\n",
              "            title=\"Suggest charts.\"\n",
              "            style=\"display:none;\">\n",
              "\n",
              "<svg xmlns=\"http://www.w3.org/2000/svg\" height=\"24px\"viewBox=\"0 0 24 24\"\n",
              "     width=\"24px\">\n",
              "    <g>\n",
              "        <path d=\"M19 3H5c-1.1 0-2 .9-2 2v14c0 1.1.9 2 2 2h14c1.1 0 2-.9 2-2V5c0-1.1-.9-2-2-2zM9 17H7v-7h2v7zm4 0h-2V7h2v10zm4 0h-2v-4h2v4z\"/>\n",
              "    </g>\n",
              "</svg>\n",
              "  </button>\n",
              "\n",
              "<style>\n",
              "  .colab-df-quickchart {\n",
              "      --bg-color: #E8F0FE;\n",
              "      --fill-color: #1967D2;\n",
              "      --hover-bg-color: #E2EBFA;\n",
              "      --hover-fill-color: #174EA6;\n",
              "      --disabled-fill-color: #AAA;\n",
              "      --disabled-bg-color: #DDD;\n",
              "  }\n",
              "\n",
              "  [theme=dark] .colab-df-quickchart {\n",
              "      --bg-color: #3B4455;\n",
              "      --fill-color: #D2E3FC;\n",
              "      --hover-bg-color: #434B5C;\n",
              "      --hover-fill-color: #FFFFFF;\n",
              "      --disabled-bg-color: #3B4455;\n",
              "      --disabled-fill-color: #666;\n",
              "  }\n",
              "\n",
              "  .colab-df-quickchart {\n",
              "    background-color: var(--bg-color);\n",
              "    border: none;\n",
              "    border-radius: 50%;\n",
              "    cursor: pointer;\n",
              "    display: none;\n",
              "    fill: var(--fill-color);\n",
              "    height: 32px;\n",
              "    padding: 0;\n",
              "    width: 32px;\n",
              "  }\n",
              "\n",
              "  .colab-df-quickchart:hover {\n",
              "    background-color: var(--hover-bg-color);\n",
              "    box-shadow: 0 1px 2px rgba(60, 64, 67, 0.3), 0 1px 3px 1px rgba(60, 64, 67, 0.15);\n",
              "    fill: var(--button-hover-fill-color);\n",
              "  }\n",
              "\n",
              "  .colab-df-quickchart-complete:disabled,\n",
              "  .colab-df-quickchart-complete:disabled:hover {\n",
              "    background-color: var(--disabled-bg-color);\n",
              "    fill: var(--disabled-fill-color);\n",
              "    box-shadow: none;\n",
              "  }\n",
              "\n",
              "  .colab-df-spinner {\n",
              "    border: 2px solid var(--fill-color);\n",
              "    border-color: transparent;\n",
              "    border-bottom-color: var(--fill-color);\n",
              "    animation:\n",
              "      spin 1s steps(1) infinite;\n",
              "  }\n",
              "\n",
              "  @keyframes spin {\n",
              "    0% {\n",
              "      border-color: transparent;\n",
              "      border-bottom-color: var(--fill-color);\n",
              "      border-left-color: var(--fill-color);\n",
              "    }\n",
              "    20% {\n",
              "      border-color: transparent;\n",
              "      border-left-color: var(--fill-color);\n",
              "      border-top-color: var(--fill-color);\n",
              "    }\n",
              "    30% {\n",
              "      border-color: transparent;\n",
              "      border-left-color: var(--fill-color);\n",
              "      border-top-color: var(--fill-color);\n",
              "      border-right-color: var(--fill-color);\n",
              "    }\n",
              "    40% {\n",
              "      border-color: transparent;\n",
              "      border-right-color: var(--fill-color);\n",
              "      border-top-color: var(--fill-color);\n",
              "    }\n",
              "    60% {\n",
              "      border-color: transparent;\n",
              "      border-right-color: var(--fill-color);\n",
              "    }\n",
              "    80% {\n",
              "      border-color: transparent;\n",
              "      border-right-color: var(--fill-color);\n",
              "      border-bottom-color: var(--fill-color);\n",
              "    }\n",
              "    90% {\n",
              "      border-color: transparent;\n",
              "      border-bottom-color: var(--fill-color);\n",
              "    }\n",
              "  }\n",
              "</style>\n",
              "\n",
              "  <script>\n",
              "    async function quickchart(key) {\n",
              "      const quickchartButtonEl =\n",
              "        document.querySelector('#' + key + ' button');\n",
              "      quickchartButtonEl.disabled = true;  // To prevent multiple clicks.\n",
              "      quickchartButtonEl.classList.add('colab-df-spinner');\n",
              "      try {\n",
              "        const charts = await google.colab.kernel.invokeFunction(\n",
              "            'suggestCharts', [key], {});\n",
              "      } catch (error) {\n",
              "        console.error('Error during call to suggestCharts:', error);\n",
              "      }\n",
              "      quickchartButtonEl.classList.remove('colab-df-spinner');\n",
              "      quickchartButtonEl.classList.add('colab-df-quickchart-complete');\n",
              "    }\n",
              "    (() => {\n",
              "      let quickchartButtonEl =\n",
              "        document.querySelector('#df-44b3cb4a-155f-4ba8-b3ec-b567e92abb4c button');\n",
              "      quickchartButtonEl.style.display =\n",
              "        google.colab.kernel.accessAllowed ? 'block' : 'none';\n",
              "    })();\n",
              "  </script>\n",
              "</div>\n",
              "    </div>\n",
              "  </div>\n"
            ]
          },
          "metadata": {},
          "execution_count": 7
        }
      ]
    },
    {
      "cell_type": "markdown",
      "source": [
        "### Monte Carlo Portfolio Optimization Simulation"
      ],
      "metadata": {
        "id": "TO9Nr8-1_BAb"
      },
      "id": "TO9Nr8-1_BAb"
    },
    {
      "cell_type": "markdown",
      "source": [
        "\n",
        "1. **Monte Carlo**: This part refers to the use of the Monte Carlo simulation technique, which involves generating random scenarios to analyze and make decisions based on statistical outcomes.\n",
        "\n",
        "2. **Portfolio Optimization**: This part indicates that the code is focused on optimizing investment portfolios, typically by finding the allocation of assets that maximizes returns or minimizes risk.\n",
        "\n",
        "3. **Simulation**: This part signifies that the code is running simulations to assess various portfolio scenarios.\n"
      ],
      "metadata": {
        "id": "xTNfTlQ4-XHi"
      },
      "id": "xTNfTlQ4-XHi"
    },
    {
      "cell_type": "markdown",
      "source": [
        "This code simulates a specified number of portfolios with random weightings of the selected stocks and calculates their expected returns, volatilities, and Sharpe ratios. It also stores the weights of each stock for each portfolio in the weights_table."
      ],
      "metadata": {
        "id": "qSQ2Lofz-38t"
      },
      "id": "qSQ2Lofz-38t"
    },
    {
      "cell_type": "code",
      "source": [
        "# Number of portfolios to simulate\n",
        "number_of_portfolios = 100000\n",
        "\n",
        "# Initialize arrays to store portfolio metrics\n",
        "expected_returns = np.zeros(number_of_portfolios)\n",
        "expected_volatilities = np.zeros(number_of_portfolios)\n",
        "sharpe_ratios = np.zeros(number_of_portfolios)\n",
        "weights_table = np.zeros((number_of_portfolios, len(stock_symbols)))\n",
        "\n",
        "# Loop to generate random portfolios\n",
        "for k in range(number_of_portfolios):\n",
        "\n",
        "    # Generate random weights for each stock in the portfolio\n",
        "    weights = np.random.random(len(stock_symbols))\n",
        "    weights /= np.sum(weights)  # Ensure the sum of weights is 1 (100%)\n",
        "\n",
        "    # Store the weights in the weights table\n",
        "    weights_table[k, :] = weights\n",
        "\n",
        "    # Calculate the expected portfolio return (annualized)\n",
        "    expected_returns[k] = np.sum(mean_returns * weights * 252)\n",
        "\n",
        "    # Calculate the expected portfolio volatility (annualized)\n",
        "    expected_volatilities[k] = np.sqrt(np.dot(weights.T, np.dot(covariance_matrix * 252, weights)))\n",
        "\n",
        "    # Calculate the Sharpe ratio for the portfolio\n",
        "    sharpe_ratios[k] = expected_returns[k] / expected_volatilities[k]\n"
      ],
      "metadata": {
        "id": "kimHkIn39bNx"
      },
      "id": "kimHkIn39bNx",
      "execution_count": 8,
      "outputs": []
    },
    {
      "cell_type": "markdown",
      "source": [
        "#### Understanding sharp_ratios:"
      ],
      "metadata": {
        "id": "Vx94SLzt_-Ol"
      },
      "id": "Vx94SLzt_-Ol"
    },
    {
      "cell_type": "code",
      "source": [
        "# Sharpe Formula\n",
        "import sympy as sp\n",
        "from IPython.display import display, Markdown\n",
        "\n",
        "# Define symbols\n",
        "PR, RF, PV = sp.symbols('Portfolio_Return Risk-Free_Rate Portfolio_Volatility')\n",
        "\n",
        "# Create the Sharpe ratio equation\n",
        "sharpe_eq = sp.Eq((PR - RF) / PV, PR)\n",
        "\n",
        "# Display the equation as Markdown\n",
        "display(Markdown(f\"$$ {sp.latex(sharpe_eq)} $$\"))\n"
      ],
      "metadata": {
        "colab": {
          "base_uri": "https://localhost:8080/",
          "height": 54
        },
        "id": "k_AaB5dTAsUh",
        "outputId": "e833505c-4aa9-4ef4-97ee-59698681698c"
      },
      "id": "k_AaB5dTAsUh",
      "execution_count": 12,
      "outputs": [
        {
          "output_type": "display_data",
          "data": {
            "text/plain": [
              "<IPython.core.display.Markdown object>"
            ],
            "text/markdown": "$$ \\frac{Portfolio_{Return} - Risk-Free_{Rate}}{Portfolio_{Volatility}} = Portfolio_{Return} $$"
          },
          "metadata": {}
        }
      ]
    },
    {
      "cell_type": "markdown",
      "source": [
        "The Sharpe ratio is a key metric used in finance to assess the risk-adjusted performance of an investment portfolio. It provides insight into whether the returns earned on an investment are sufficient given the level of risk taken. The Sharpe ratio is calculated as:\n",
        "\n",
        "\n",
        "In your array of Sharpe ratios, each value represents the Sharpe ratio for a specific portfolio configuration. Here's how to interpret these values:\n",
        "\n",
        "1. **Positive Values**: A Sharpe ratio greater than zero indicates that the portfolio is generating a positive excess return (return above the risk-free rate) for each unit of risk. In finance, this is generally considered a good sign.\n",
        "\n",
        "2. **Magnitude**: The magnitude of the Sharpe ratio matters. Higher values typically indicate better risk-adjusted performance. A higher Sharpe ratio implies that the portfolio is delivering more return for the same level of risk or less risk for the same level of return.\n",
        "\n",
        "3. **Comparison**: You can use Sharpe ratios to compare different portfolios. When comparing two portfolios, the one with the higher Sharpe ratio is usually preferred because it offers a better risk-adjusted return.\n",
        "\n",
        "4. **Risk-Free Rate**: Keep in mind that the Sharpe ratio subtracts the risk-free rate from the portfolio return. So, if the risk-free rate is low or close to zero, achieving a positive Sharpe ratio becomes more achievable.\n",
        "\n"
      ],
      "metadata": {
        "id": "S6ppXxKnAEdx"
      },
      "id": "S6ppXxKnAEdx"
    },
    {
      "cell_type": "code",
      "source": [
        "sharpe_ratios"
      ],
      "metadata": {
        "colab": {
          "base_uri": "https://localhost:8080/"
        },
        "id": "zw1I1tPY_eTx",
        "outputId": "e96e1cd0-1ce6-4ca2-84ff-7f846d1ec349"
      },
      "id": "zw1I1tPY_eTx",
      "execution_count": 9,
      "outputs": [
        {
          "output_type": "execute_result",
          "data": {
            "text/plain": [
              "array([0.71125649, 0.71513559, 0.68632062, ..., 0.72511646, 0.71587333,\n",
              "       0.67919868])"
            ]
          },
          "metadata": {},
          "execution_count": 9
        }
      ]
    },
    {
      "cell_type": "markdown",
      "source": [
        "## Finding the Optimal Portfolio with Maximum Sharpe Ratio"
      ],
      "metadata": {
        "id": "l3d1hRnaBrXO"
      },
      "id": "l3d1hRnaBrXO"
    },
    {
      "cell_type": "code",
      "source": [
        "# Find the index of the maximum Sharpe ratio\n",
        "max_sharpe_index = sharpe_ratios.argmax()\n",
        "\n",
        "# Retrieve the allocation of assets for the portfolio with the highest Sharpe ratio\n",
        "best_portfolio_weights = weights_table[max_sharpe_index]\n"
      ],
      "metadata": {
        "id": "YMSJlpbfBo7M"
      },
      "id": "YMSJlpbfBo7M",
      "execution_count": 13,
      "outputs": []
    },
    {
      "cell_type": "markdown",
      "source": [
        "### Calculating Expected Arithmetic Returns Table\n",
        "\n"
      ],
      "metadata": {
        "id": "SqHjllIzB549"
      },
      "id": "SqHjllIzB549"
    },
    {
      "cell_type": "code",
      "source": [
        "# Calculate the table of expected arithmetic returns\n",
        "table_expected_arithmetic_returns = np.exp(expected_returns) - 1\n",
        "\n",
        "# Display the table of expected arithmetic returns\n",
        "table_expected_arithmetic_returns\n"
      ],
      "metadata": {
        "colab": {
          "base_uri": "https://localhost:8080/"
        },
        "id": "dqXNTZs2B6Ud",
        "outputId": "95700ec8-12ef-4814-a61e-a3b1f160b22a"
      },
      "id": "dqXNTZs2B6Ud",
      "execution_count": 14,
      "outputs": [
        {
          "output_type": "execute_result",
          "data": {
            "text/plain": [
              "array([0.20784962, 0.19394952, 0.1816216 , ..., 0.19765199, 0.20317788,\n",
              "       0.18390218])"
            ]
          },
          "metadata": {},
          "execution_count": 14
        }
      ]
    },
    {
      "cell_type": "markdown",
      "source": [
        "## Calculating the Efficient Frontier for Portfolio Optimization\n",
        "\n",
        "The code is designed to calculate the Efficient Frontier, which is a fundamental concept in portfolio optimization. **The Efficient Frontier represents a set of optimal portfolios that offer the highest expected return for a given level of risk (volatility) or the lowest risk for a given level of expected return.**\n",
        "\n"
      ],
      "metadata": {
        "id": "0ksvajnECNIl"
      },
      "id": "0ksvajnECNIl"
    },
    {
      "cell_type": "code",
      "source": [
        "# Define the range of expected arithmetic returns\n",
        "efficient_frontier_y = np.linspace(table_expected_arithmetic_returns.min(),\n",
        "                                   table_expected_arithmetic_returns.max(), 50)\n",
        "\n",
        "def get_return(weight_test):\n",
        "    weight_test = np.array(weight_test)\n",
        "    portfolio_return = np.sum(mean_returns * weight_test) * 252\n",
        "    portfolio_return = np.exp(portfolio_return) - 1\n",
        "\n",
        "    return portfolio_return\n",
        "\n",
        "def check_weight_sum(weight_test):\n",
        "    return np.sum(weight_test) - 1\n",
        "\n",
        "def get_volatility(weight_test):\n",
        "    weight_test = np.array(weight_test)\n",
        "    portfolio_volatility = np.sqrt(np.dot(weight_test.T, np.dot(covariance_matrix * 252, weight_test)))\n",
        "\n",
        "    return portfolio_volatility\n",
        "\n",
        "initial_weights = [1/len(stock_symbols)] * len(stock_symbols)\n",
        "limits = tuple([(0, 1) for ativo in lista_acoes])\n",
        "\n",
        "\n",
        "\n",
        "limits = [(0, 1) for _ in range(len(stock_symbols))]\n",
        "\n",
        "efficient_frontier_x = []\n",
        "\n",
        "for possible_return in efficient_frontier_y:\n",
        "\n",
        "    # Find the portfolio with the minimum volatility for each possible return\n",
        "\n",
        "    equality_constraints = ({'type':'eq', 'fun':check_weight_sum},\n",
        "            {'type':'eq', 'fun': lambda w: get_return(w) - possible_return})\n",
        "\n",
        "\n",
        "    result = minimize(get_volatility, initial_weights, method='SLSQP', bounds=limits,\n",
        "                      constraints=equality_constraints)\n",
        "    efficient_frontier_x.append(result.fun)"
      ],
      "metadata": {
        "id": "qN3Y10nYPzJR"
      },
      "id": "qN3Y10nYPzJR",
      "execution_count": 40,
      "outputs": []
    },
    {
      "cell_type": "markdown",
      "source": [
        "In this part of your code, you are defining and calculating the efficient frontier of portfolios based on expected arithmetic returns and portfolio volatility. Here's what each section of this code does:\n",
        "\n",
        "1. `efficient_frontier_y`: It defines a range of expected arithmetic returns (`efficient_frontier_y`) that spans from the minimum to the maximum expected arithmetic returns calculated earlier. This range will be used to explore various possible expected returns for portfolios.\n",
        "\n",
        "2. `get_return(weight_test)`: This function calculates the portfolio return based on the given portfolio weights. It uses the mean returns of individual stocks and annualizes the return by multiplying it by 252 (assuming 252 trading days in a year).\n",
        "\n",
        "3. `check_weight_sum(weight_test)`: This function checks if the sum of portfolio weights equals 1 (100%). It is used as a constraint to ensure that the weights sum to 1.\n",
        "\n",
        "4. `get_volatility(weight_test)`: This function calculates the portfolio volatility (risk) based on the given portfolio weights. It uses the covariance matrix of logarithmic returns and annualizes the volatility.\n",
        "\n",
        "5. `initial_weights`: It defines initial weights for each asset, assuming an equal allocation.\n",
        "\n",
        "6. `limits`: This variable defines the upper and lower bounds for the portfolio weights, which are between 0 and 1 (representing 0% to 100% allocation in each asset).\n",
        "\n",
        "7. `efficient_frontier_x`: This empty list will store the portfolio volatilities for each expected return in the `efficient_frontier_y` range.\n",
        "\n",
        "The loop iterates over each possible expected return in the `efficient_frontier_y` range and **aims to find the portfolio with the minimum volatility for that return.** It does this by minimizing the portfolio volatility while satisfying the constraint that the sum of weights equals 1 and that the expected return matches the current possible return being considered.\n",
        "\n"
      ],
      "metadata": {
        "id": "-7yvyOp0EgCc"
      },
      "id": "-7yvyOp0EgCc"
    },
    {
      "cell_type": "markdown",
      "source": [
        "### Result breakdown"
      ],
      "metadata": {
        "id": "sFANVc8OS2IY"
      },
      "id": "sFANVc8OS2IY"
    },
    {
      "cell_type": "code",
      "execution_count": 41,
      "id": "d0af3266",
      "metadata": {
        "id": "d0af3266",
        "outputId": "8d60acc5-0f01-40aa-b08e-729a27911ac2",
        "colab": {
          "base_uri": "https://localhost:8080/"
        }
      },
      "outputs": [
        {
          "output_type": "execute_result",
          "data": {
            "text/plain": [
              " message: Optimization terminated successfully\n",
              " success: True\n",
              "  status: 0\n",
              "     fun: 0.3041625556035382\n",
              "       x: [ 2.021e-01  7.979e-01  3.400e-16  0.000e+00]\n",
              "     nit: 4\n",
              "     jac: [ 2.130e-01  3.273e-01  1.997e-01  1.369e-01]\n",
              "    nfev: 20\n",
              "    njev: 4"
            ]
          },
          "metadata": {},
          "execution_count": 41
        }
      ],
      "source": [
        "result"
      ]
    },
    {
      "cell_type": "markdown",
      "source": [
        "The result of the optimization process for a specific portfolio with a target expected return.\n",
        "\n",
        "Here's an explanation of each part of this result message:\n",
        "\n",
        "- `Optimization terminated successfully`: This message indicates that the optimization process completed without encountering any errors or issues.\n",
        "\n",
        "- `success: True`: This field confirms that the optimization was successful.\n",
        "\n",
        "- `status: 0`: The status code 0 typically indicates that the optimization converged to a solution.\n",
        "\n",
        "- `fun:`: The value of `fun` represents the objective function value, which in this case is the portfolio volatility. The value is the minimum volatility achieved for the given portfolio.\n",
        "\n",
        "- `x:`: The `x` field provides the optimized portfolio weights for each asset.\n",
        "\n",
        "- `nit: `: `nit` represents the number of iterations it took for the optimization algorithm to converge to the solution. In this case, it took 4 iterations.\n",
        "\n",
        "- `jac:`: The `jac` field provides the Jacobian matrix, which contains partial derivatives of the objective function with respect to the variables (weights). It is used in some optimization algorithms.\n",
        "\n",
        "- `nfev: `: `nfev` represents the number of function evaluations performed during the optimization process.\n",
        "\n",
        "- `njev: `: `njev` represents the number of Jacobian evaluations performed during the optimization process.\n",
        "\n",
        "In summary, this result message **indicates that the optimization process successfully found a portfolio with the minimum volatility that matches the target expected return while satisfying the constraints.**"
      ],
      "metadata": {
        "id": "0vHFaHZMS61E"
      },
      "id": "0vHFaHZMS61E"
    },
    {
      "cell_type": "markdown",
      "source": [
        "### Expected volatilities vs. Expected returns plot"
      ],
      "metadata": {
        "id": "p3CpVT2sS8Ur"
      },
      "id": "p3CpVT2sS8Ur"
    },
    {
      "cell_type": "markdown",
      "source": [
        "- Expected volatilities vs. Expected returns for a set of portfolios and  the portfolio with the highest Sharpe ratio highlighted in red.\n",
        "\n",
        "\n",
        "- The plot provides a visual representation of the trade-off between expected return and volatility for different portfolios and highlights the portfolio with the highest Sharpe ratio, which is often considered an optimal portfolio from a risk-adjusted perspective."
      ],
      "metadata": {
        "id": "giqfLpTGUU90"
      },
      "id": "giqfLpTGUU90"
    },
    {
      "cell_type": "code",
      "source": [
        "\n",
        "fig, ax = plt.subplots()\n",
        "\n",
        "ax.scatter(expected_volatilities, table_expected_arithmetic_returns, c = sharpe_ratios)\n",
        "plt.xlabel(\"Expected Volatility\")\n",
        "plt.ylabel(\"Expected Return\")\n",
        "ax.scatter(expected_volatilities[max_sharpe_index],\n",
        "            table_expected_arithmetic_returns[max_sharpe_index], c = \"red\")\n",
        "ax.plot(efficient_frontier_x, efficient_frontier_y)\n",
        "ax.yaxis.set_major_formatter(mtick.PercentFormatter(1.0))\n",
        "ax.xaxis.set_major_formatter(mtick.PercentFormatter(1.0))\n",
        "\n",
        "plt.show()"
      ],
      "metadata": {
        "colab": {
          "base_uri": "https://localhost:8080/",
          "height": 454
        },
        "id": "-XHC6f3MJC8C",
        "outputId": "627c9943-deca-4500-e58e-dc216c260df8"
      },
      "id": "-XHC6f3MJC8C",
      "execution_count": 42,
      "outputs": [
        {
          "output_type": "display_data",
          "data": {
            "text/plain": [
              "<Figure size 640x480 with 1 Axes>"
            ],
            "image/png": "[encoded data removed]"
          },
          "metadata": {}
        }
      ]
    }
  ],
  "metadata": {
    "kernelspec": {
      "display_name": "Python 3 (ipykernel)",
      "language": "python",
      "name": "python3"
    },
    "language_info": {
      "codemirror_mode": {
        "name": "ipython",
        "version": 3
      },
      "file_extension": ".py",
      "mimetype": "text/x-python",
      "name": "python",
      "nbconvert_exporter": "python",
      "pygments_lexer": "ipython3",
      "version": "3.9.12"
    },
    "colab": {
      "provenance": [],
      "toc_visible": true,
      "include_colab_link": true
    }
  },
  "nbformat": 4,
  "nbformat_minor": 5
}